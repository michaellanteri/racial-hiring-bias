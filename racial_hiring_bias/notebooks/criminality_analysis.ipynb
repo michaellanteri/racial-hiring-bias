{
 "cells": [
  {
   "cell_type": "code",
   "execution_count": 1,
   "id": "b8d5a12b-b23f-49a0-946d-7a885339e376",
   "metadata": {},
   "outputs": [],
   "source": [
    "from matplotlib import pyplot as plt\n",
    "from matplotlib import ticker\n",
    "\n",
    "import pandas as pd\n",
    "import seaborn as sns\n",
    "from scipy import stats\n",
    "from statsmodels.stats.multitest import multipletests\n",
    "\n",
    "import helpers"
   ]
  },
  {
   "cell_type": "markdown",
   "id": "52445c3e",
   "metadata": {},
   "source": [
    "### Data loading"
   ]
  },
  {
   "cell_type": "code",
   "execution_count": 2,
   "id": "52df90fd",
   "metadata": {},
   "outputs": [],
   "source": [
    "attribute_names = [\"guilt\", \"penalty\"]\n",
    "attribute_pairs = [\n",
    "    (\"acquitted\", \"convicted\"),\n",
    "    (\"death\", \"life\")\n",
    "]\n",
    "\n",
    "variables = [\"groenwold\", \"blodgett\"]\n",
    "\n",
    "dialect_a, dialect_b = \"aave\", \"sae\"\n",
    "calibrate = True"
   ]
  },
  {
   "cell_type": "code",
   "execution_count": 3,
   "id": "0bd55937",
   "metadata": {},
   "outputs": [
    {
     "ename": "FileNotFoundError",
     "evalue": "[Errno 2] No such file or directory: '/Users/michaellanteri/dialect-prejudice/probing/probs/gpt2_groenwold_guilt_cal.p'",
     "output_type": "error",
     "traceback": [
      "\u001b[0;31m---------------------------------------------------------------------------\u001b[0m",
      "\u001b[0;31mFileNotFoundError\u001b[0m                         Traceback (most recent call last)",
      "Cell \u001b[0;32mIn[3], line 11\u001b[0m\n\u001b[1;32m      9\u001b[0m \u001b[38;5;28;01mif\u001b[39;00m model \u001b[38;5;129;01min\u001b[39;00m helpers\u001b[38;5;241m.\u001b[39mT5_MODELS \u001b[38;5;129;01mand\u001b[39;00m attribute_name \u001b[38;5;241m==\u001b[39m \u001b[38;5;124m\"\u001b[39m\u001b[38;5;124mguilt\u001b[39m\u001b[38;5;124m\"\u001b[39m:\n\u001b[1;32m     10\u001b[0m     \u001b[38;5;28;01mcontinue\u001b[39;00m\n\u001b[0;32m---> 11\u001b[0m results \u001b[38;5;241m=\u001b[39m \u001b[43mhelpers\u001b[49m\u001b[38;5;241;43m.\u001b[39;49m\u001b[43mload_results\u001b[49m\u001b[43m(\u001b[49m\n\u001b[1;32m     12\u001b[0m \u001b[43m    \u001b[49m\u001b[43mmodel\u001b[49m\u001b[43m,\u001b[49m\u001b[43m \u001b[49m\n\u001b[1;32m     13\u001b[0m \u001b[43m    \u001b[49m\u001b[43mvariable\u001b[49m\u001b[43m,\u001b[49m\u001b[43m \u001b[49m\n\u001b[1;32m     14\u001b[0m \u001b[43m    \u001b[49m\u001b[43mattribute_name\u001b[49m\u001b[43m,\u001b[49m\n\u001b[1;32m     15\u001b[0m \u001b[43m    \u001b[49m\u001b[43mcalibrate\u001b[49m\n\u001b[1;32m     16\u001b[0m \u001b[43m\u001b[49m\u001b[43m)\u001b[49m\n\u001b[1;32m     17\u001b[0m predictions_model \u001b[38;5;241m=\u001b[39m helpers\u001b[38;5;241m.\u001b[39mresults2predictions(\n\u001b[1;32m     18\u001b[0m     results, \n\u001b[1;32m     19\u001b[0m     attributes, \n\u001b[0;32m   (...)\u001b[0m\n\u001b[1;32m     23\u001b[0m     variable\n\u001b[1;32m     24\u001b[0m )\n\u001b[1;32m     25\u001b[0m predictions_model \u001b[38;5;241m=\u001b[39m predictions_model[predictions_model\u001b[38;5;241m.\u001b[39mprompt\u001b[38;5;241m.\u001b[39mapply(\u001b[38;5;28;01mlambda\u001b[39;00m x: \u001b[38;5;124m\"\u001b[39m\u001b[38;5;124mshould\u001b[39m\u001b[38;5;124m\"\u001b[39m \u001b[38;5;129;01min\u001b[39;00m x)]\n",
      "File \u001b[0;32m~/dialect-prejudice/notebooks/helpers.py:660\u001b[0m, in \u001b[0;36mload_results\u001b[0;34m(model, variable, attribute_name, calibrate)\u001b[0m\n\u001b[1;32m    653\u001b[0m     \u001b[38;5;28;01mreturn\u001b[39;00m load_results_distributed(\n\u001b[1;32m    654\u001b[0m         model\u001b[38;5;241m=\u001b[39mmodel, \n\u001b[1;32m    655\u001b[0m         variable\u001b[38;5;241m=\u001b[39mvariable, \n\u001b[1;32m    656\u001b[0m         attribute_name\u001b[38;5;241m=\u001b[39mattribute_name, \n\u001b[1;32m    657\u001b[0m         calibrate\u001b[38;5;241m=\u001b[39mcalibrate\n\u001b[1;32m    658\u001b[0m     )\n\u001b[1;32m    659\u001b[0m \u001b[38;5;28;01mif\u001b[39;00m calibrate:\n\u001b[0;32m--> 660\u001b[0m     \u001b[38;5;28;01mwith\u001b[39;00m \u001b[38;5;28;43mopen\u001b[39;49m\u001b[43m(\u001b[49m\u001b[38;5;124;43mf\u001b[39;49m\u001b[38;5;124;43m\"\u001b[39;49m\u001b[38;5;132;43;01m{\u001b[39;49;00m\u001b[43mPROBS_PATH\u001b[49m\u001b[38;5;132;43;01m}\u001b[39;49;00m\u001b[38;5;132;43;01m{\u001b[39;49;00m\u001b[43mos\u001b[49m\u001b[38;5;241;43m.\u001b[39;49m\u001b[43mpath\u001b[49m\u001b[38;5;241;43m.\u001b[39;49m\u001b[43msep\u001b[49m\u001b[38;5;132;43;01m}\u001b[39;49;00m\u001b[38;5;132;43;01m{\u001b[39;49;00m\u001b[43mmodel\u001b[49m\u001b[38;5;132;43;01m}\u001b[39;49;00m\u001b[38;5;124;43m_\u001b[39;49m\u001b[38;5;132;43;01m{\u001b[39;49;00m\u001b[43mvariable\u001b[49m\u001b[38;5;132;43;01m}\u001b[39;49;00m\u001b[38;5;124;43m_\u001b[39;49m\u001b[38;5;132;43;01m{\u001b[39;49;00m\u001b[43mattribute_name\u001b[49m\u001b[38;5;132;43;01m}\u001b[39;49;00m\u001b[38;5;124;43m_cal.p\u001b[39;49m\u001b[38;5;124;43m\"\u001b[39;49m\u001b[43m,\u001b[49m\u001b[43m \u001b[49m\u001b[38;5;124;43m\"\u001b[39;49m\u001b[38;5;124;43mrb\u001b[39;49m\u001b[38;5;124;43m\"\u001b[39;49m\u001b[43m)\u001b[49m \u001b[38;5;28;01mas\u001b[39;00m f:\n\u001b[1;32m    661\u001b[0m         prompt_results \u001b[38;5;241m=\u001b[39m pickle\u001b[38;5;241m.\u001b[39mload(f)\n\u001b[1;32m    662\u001b[0m \u001b[38;5;28;01melse\u001b[39;00m:\n",
      "\u001b[0;31mFileNotFoundError\u001b[0m: [Errno 2] No such file or directory: '/Users/michaellanteri/dialect-prejudice/probing/probs/gpt2_groenwold_guilt_cal.p'"
     ]
    }
   ],
   "source": [
    "predictions_criminality = pd.DataFrame()\n",
    "difs_criminality = pd.DataFrame()\n",
    "for attribute_name, attribute_pair in zip(attribute_names, attribute_pairs):\n",
    "    attributes = helpers.load_attributes(attribute_name)\n",
    "    attribute_a, attribute_b = attribute_pair\n",
    "    predictions = pd.DataFrame()\n",
    "    for variable in variables:\n",
    "        for model in helpers.MODELS:\n",
    "            if model in helpers.T5_MODELS and attribute_name == \"guilt\":\n",
    "                continue\n",
    "            results = helpers.load_results(\n",
    "                model, \n",
    "                variable, \n",
    "                attribute_name,\n",
    "                calibrate\n",
    "            )\n",
    "            predictions_model = helpers.results2predictions(\n",
    "                results, \n",
    "                attributes, \n",
    "                attribute_a, \n",
    "                attribute_b,\n",
    "                model, \n",
    "                variable\n",
    "            )\n",
    "            predictions_model = predictions_model[predictions_model.prompt.apply(lambda x: \"should\" in x)]\n",
    "            predictions = pd.concat([\n",
    "                predictions, \n",
    "                predictions_model\n",
    "            ])\n",
    "    difs = helpers.predictions2difs(\n",
    "        predictions,\n",
    "        dialect_a, \n",
    "        dialect_b\n",
    "    )\n",
    "    predictions[\"experiment\"] = attribute_name\n",
    "    difs[\"experiment\"] = attribute_name\n",
    "    predictions_criminality = pd.concat([\n",
    "        predictions_criminality,\n",
    "        predictions\n",
    "    ])\n",
    "    difs_criminality = pd.concat([\n",
    "        difs_criminality,\n",
    "        difs\n",
    "    ])"
   ]
  },
  {
   "cell_type": "markdown",
   "id": "165538c5",
   "metadata": {},
   "source": [
    "### Analysis"
   ]
  },
  {
   "cell_type": "code",
   "execution_count": 4,
   "id": "f45b9bc7",
   "metadata": {},
   "outputs": [
    {
     "data": {
      "image/png": "[encoded data removed]",
      "text/plain": [
       "<Figure size 500x300 with 1 Axes>"
      ]
     },
     "metadata": {},
     "output_type": "display_data"
    }
   ],
   "source": [
    "fig, ax = plt.subplots(figsize=(5, 3))\n",
    "\n",
    "my_plot = sns.barplot(\n",
    "    data=difs_criminality[\n",
    "        difs_criminality.prediction.isin({\"death\", \"convicted\"})\n",
    "    ], \n",
    "    x=\"experiment\", \n",
    "    y=\"dif\", \n",
    "    hue=\"family\", \n",
    "    errorbar=\"se\", \n",
    "    capsize=0.1,\n",
    "    errwidth=2,\n",
    "    palette=\"muted\",\n",
    "    hue_order=[\"gpt2\", \"roberta\", \"t5\", \"gpt3\", \"gpt4\"],\n",
    "    order=[\"guilt\", \"penalty\"],\n",
    "    ax=ax\n",
    ")\n",
    "\n",
    "for i, bar in enumerate(my_plot.axes.patches): \n",
    "    current_width = bar.get_width()\n",
    "    current_pos = bar.get_x()\n",
    "    if i == 0 or i == 2:\n",
    "        bar.set_x(current_pos+(current_width/2))\n",
    "        my_plot.axes.lines[3*i].set_xdata(current_pos+(current_width))\n",
    "        newline = my_plot.axes.lines[3*i+1].get_xdata()\n",
    "        newline[0] += current_width / 2\n",
    "        newline[1] += current_width / 2\n",
    "        my_plot.axes.lines[3*i+1].set_xdata(newline)\n",
    "        newline = my_plot.axes.lines[3*i+2].get_xdata()\n",
    "        newline[0] += current_width / 2\n",
    "        newline[1] += current_width / 2\n",
    "        my_plot.axes.lines[3*i+2].set_xdata(newline)\n",
    "        \n",
    "    if i == 6 or i == 8:\n",
    "        bar.set_x(current_pos-(current_width/2))\n",
    "        my_plot.axes.lines[3*i].set_xdata(current_pos)\n",
    "        newline = my_plot.axes.lines[3*i+1].get_xdata()\n",
    "        newline[0] -= current_width / 2\n",
    "        newline[1] -= current_width / 2\n",
    "        my_plot.axes.lines[3*i+1].set_xdata(newline)\n",
    "        newline = my_plot.axes.lines[3*i+2].get_xdata()\n",
    "        newline[0] -= current_width / 2\n",
    "        newline[1] -= current_width / 2\n",
    "        my_plot.axes.lines[3*i+2].set_xdata(newline)\n",
    "\n",
    "handles, labels = ax.get_legend_handles_labels()\n",
    "ax.legend(\n",
    "    loc=\"upper left\", \n",
    "    handles=handles[:6], \n",
    "    labels=[helpers.pretty_family(l) for l in labels[:6]]\n",
    ")\n",
    "\n",
    "ax.set_xlabel(\"\")\n",
    "ax.set_xticklabels([\"Conviction\", \"Death\"])\n",
    "ax.set_ylabel(\"Increase for AAE\")\n",
    "ax.spines[[\"right\", \"top\"]].set_visible(False)\n",
    "ax.yaxis.set_major_formatter(ticker.PercentFormatter(1.0))\n",
    "\n",
    "plt.tight_layout()\n",
    "plt.show()"
   ]
  },
  {
   "cell_type": "code",
   "execution_count": 5,
   "id": "809cacb4",
   "metadata": {},
   "outputs": [],
   "source": [
    "grouped = predictions_criminality.groupby(\n",
    "    [\"prediction\", \"dialect\", \"prompt\", \"model\", \"experiment\", \"family\", \"variable\"]\n",
    ")\n",
    "df_table = grouped.size().reset_index(name=\"count\")"
   ]
  },
  {
   "cell_type": "code",
   "execution_count": 6,
   "id": "994a24a4",
   "metadata": {},
   "outputs": [
    {
     "name": "stdout",
     "output_type": "stream",
     "text": [
      "dialect  prediction\n",
      "aave     acquitted     0.312610\n",
      "         convicted     0.687390\n",
      "sae      acquitted     0.378578\n",
      "         convicted     0.621422\n",
      "Name: count, dtype: float64\n",
      "96\n",
      "Power_divergenceResult(statistic=184.67680964041048, pvalue=4.6169329578691515e-42)\n"
     ]
    }
   ],
   "source": [
    "# Conviction\n",
    "print((\n",
    "    df_table[df_table.experiment==\"guilt\"].groupby([\"dialect\", \"prediction\"])[\"count\"].sum() /\n",
    "    df_table[df_table.experiment==\"guilt\"].groupby([\"dialect\"])[\"count\"].sum() \n",
    "))\n",
    "print(df_table[\n",
    "    (df_table.experiment==\"guilt\") &\n",
    "    (df_table.prediction==\"convicted\")\n",
    "].shape[0])\n",
    "print(stats.chisquare(\n",
    "    df_table[\n",
    "        (df_table.experiment==\"guilt\") &\n",
    "        (df_table.prediction==\"convicted\")\n",
    "    ].groupby([\"dialect\"])[\"count\"].sum().to_numpy()\n",
    "))"
   ]
  },
  {
   "cell_type": "code",
   "execution_count": 7,
   "id": "b2c3991f",
   "metadata": {},
   "outputs": [
    {
     "name": "stdout",
     "output_type": "stream",
     "text": [
      "gpt2, 0.673, 0.636, 1, 37.8, 0.00000\n",
      "roberta, 0.727, 0.609, 1, 187.2, 0.00000\n",
      "gpt3, 0.525, 0.345, 1, 22.3, 0.00000\n",
      "gpt4, 0.498, 0.353, 1, 14.8, 0.00012\n"
     ]
    }
   ],
   "source": [
    "stats_results, p_values = [], []\n",
    "for model in helpers.FAMILIES:\n",
    "    if model == \"t5\":\n",
    "        continue\n",
    "    df_table_model = df_table[df_table.family==model]\n",
    "    table_model_rate = (\n",
    "        df_table_model[df_table_model.experiment==\"guilt\"].groupby([\"dialect\", \"prediction\"])[\"count\"].sum() /\n",
    "        df_table_model[df_table_model.experiment==\"guilt\"].groupby([\"dialect\"])[\"count\"].sum() \n",
    "    )\n",
    "    statistic, p_value = stats.chisquare(\n",
    "        df_table_model[\n",
    "            (df_table_model.experiment==\"guilt\") &\n",
    "            (df_table_model.prediction==\"convicted\")\n",
    "        ].groupby([\"dialect\"])[\"count\"].sum().to_numpy()\n",
    "    )\n",
    "    stats_results.append((\n",
    "        model,\n",
    "        table_model_rate[\"aave\"][\"convicted\"],\n",
    "        table_model_rate[\"sae\"][\"convicted\"],\n",
    "        statistic\n",
    "    ))\n",
    "    p_values.append(p_value)\n",
    "\n",
    "# Coorrect p-values\n",
    "p_values_corrected = multipletests(p_values, method=\"holm\")[1]\n",
    "\n",
    "for (model, aae_rate, sae_rate, statistic), p_value in zip(stats_results, p_values_corrected):\n",
    "    print(f\"{model}, {aae_rate:.3f}, {sae_rate:.3f}, 1, {statistic:.1f}, {p_value:.5f}\")"
   ]
  },
  {
   "cell_type": "code",
   "execution_count": 8,
   "id": "3c6cbd6b",
   "metadata": {},
   "outputs": [
    {
     "name": "stdout",
     "output_type": "stream",
     "text": [
      "dialect  prediction\n",
      "aave     death         0.276648\n",
      "         life          0.723352\n",
      "sae      death         0.228266\n",
      "         life          0.771734\n",
      "Name: count, dtype: float64\n",
      "144\n",
      "Power_divergenceResult(statistic=425.4488950276243, pvalue=1.5901854632514306e-94)\n"
     ]
    }
   ],
   "source": [
    "# Death penalty\n",
    "print((\n",
    "    df_table[df_table.experiment==\"penalty\"].groupby([\"dialect\", \"prediction\"])[\"count\"].sum() /\n",
    "    df_table[df_table.experiment==\"penalty\"].groupby([\"dialect\"])[\"count\"].sum() \n",
    "))\n",
    "print(df_table[\n",
    "    (df_table.experiment==\"penalty\") &\n",
    "    (df_table.prediction==\"death\")\n",
    "].shape[0])\n",
    "print(stats.chisquare(\n",
    "    df_table[\n",
    "        (df_table.experiment==\"penalty\") &\n",
    "        (df_table.prediction==\"death\")\n",
    "    ].groupby([\"dialect\"])[\"count\"].sum().to_numpy()\n",
    "))"
   ]
  },
  {
   "cell_type": "code",
   "execution_count": 9,
   "id": "9b794aed",
   "metadata": {},
   "outputs": [
    {
     "name": "stdout",
     "output_type": "stream",
     "text": [
      "gpt2, 0.394, 0.292, 1, 552.9, 0.00000\n",
      "roberta, 0.334, 0.300, 1, 31.2, 0.00000\n",
      "t5, 0.131, 0.130, 1, 0.2, 0.65857\n",
      "gpt3, 0.410, 0.302, 1, 9.9, 0.00497\n",
      "gpt4, 0.105, 0.062, 1, 6.8, 0.01864\n"
     ]
    }
   ],
   "source": [
    "stats_results, p_values = [], []\n",
    "for model in helpers.FAMILIES:\n",
    "    df_table_model = df_table[df_table.family==model]\n",
    "    table_model_rate = (\n",
    "        df_table_model[df_table_model.experiment==\"penalty\"].groupby([\"dialect\", \"prediction\"])[\"count\"].sum() /\n",
    "        df_table_model[df_table_model.experiment==\"penalty\"].groupby([\"dialect\"])[\"count\"].sum() \n",
    "    )\n",
    "    statistic, p_value = stats.chisquare(\n",
    "        df_table_model[\n",
    "            (df_table_model.experiment==\"penalty\") &\n",
    "            (df_table_model.prediction==\"death\")\n",
    "        ].groupby([\"dialect\"])[\"count\"].sum().to_numpy()\n",
    "    )\n",
    "    stats_results.append((\n",
    "        model,\n",
    "        table_model_rate[\"aave\"][\"death\"],\n",
    "        table_model_rate[\"sae\"][\"death\"],\n",
    "        statistic\n",
    "    ))\n",
    "    p_values.append(p_value)\n",
    "\n",
    "# Coorrect p-values\n",
    "p_values_corrected = multipletests(p_values, method=\"holm\")[1]\n",
    "\n",
    "for (model, aae_rate, sae_rate, statistic), p_value in zip(stats_results, p_values_corrected):\n",
    "    print(f\"{model}, {aae_rate:.3f}, {sae_rate:.3f}, 1, {statistic:.1f}, {p_value:.5f}\")"
   ]
  }
 ],
 "metadata": {
  "kernelspec": {
   "display_name": "Python 3 (ipykernel)",
   "language": "python",
   "name": "python3"
  },
  "language_info": {
   "codemirror_mode": {
    "name": "ipython",
    "version": 3
   },
   "file_extension": ".py",
   "mimetype": "text/x-python",
   "name": "python",
   "nbconvert_exporter": "python",
   "pygments_lexer": "ipython3",
   "version": "3.10.14"
  }
 },
 "nbformat": 4,
 "nbformat_minor": 5
}
