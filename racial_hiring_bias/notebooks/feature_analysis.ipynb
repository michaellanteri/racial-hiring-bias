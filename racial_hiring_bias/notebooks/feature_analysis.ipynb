{
 "cells": [
  {
   "cell_type": "code",
   "execution_count": 1,
   "id": "1e0045c8-4c17-420a-bc47-49b36ab78045",
   "metadata": {},
   "outputs": [],
   "source": [
    "from matplotlib import pyplot as plt\n",
    "\n",
    "import numpy as np\n",
    "import pandas as pd\n",
    "import seaborn as sns\n",
    "from scipy import stats\n",
    "from statsmodels.stats.multitest import multipletests\n",
    "\n",
    "import helpers"
   ]
  },
  {
   "cell_type": "markdown",
   "id": "fc904e7a",
   "metadata": {},
   "source": [
    "### Data loading"
   ]
  },
  {
   "cell_type": "code",
   "execution_count": 2,
   "id": "546fd10f-65f1-423f-8a17-b10cf784c40b",
   "metadata": {},
   "outputs": [],
   "source": [
    "attribute_name = \"katz\"\n",
    "attributes = helpers.load_attributes(attribute_name)\n",
    "\n",
    "variables = [\n",
    "    \"g_dropping\", \n",
    "    \"aint\", \n",
    "    \"habitual\", \n",
    "    \"been\", \n",
    "    \"stay\", \n",
    "    \"copula\", \n",
    "    \"inflection\",\n",
    "    \"finna\"\n",
    "]"
   ]
  },
  {
   "cell_type": "code",
   "execution_count": 3,
   "id": "2172e601",
   "metadata": {},
   "outputs": [],
   "source": [
    "stereotype_results = pd.DataFrame()\n",
    "for variable in variables:\n",
    "    for model in helpers.MODELS:\n",
    "        if model == \"gpt3\" or model == \"gpt4\":\n",
    "            continue\n",
    "        results = helpers.load_results(\n",
    "            model, \n",
    "            variable, \n",
    "            attribute_name\n",
    "        )\n",
    "        results_df = helpers.results2df(\n",
    "            results, \n",
    "            attributes, \n",
    "            model,\n",
    "            variable\n",
    "        )\n",
    "        stereotype_results = pd.concat([\n",
    "            stereotype_results, \n",
    "            results_df, \n",
    "        ])"
   ]
  },
  {
   "cell_type": "markdown",
   "id": "3d7ce3cc",
   "metadata": {},
   "source": [
    "### Analysis"
   ]
  },
  {
   "cell_type": "code",
   "execution_count": 4,
   "id": "c2a2fbbe",
   "metadata": {},
   "outputs": [],
   "source": [
    "k = 5\n",
    "attribute2score = helpers.load_ratings(\"katz\")\n",
    "stereo_attributes = helpers.get_top_attributes(\n",
    "    attributes,\n",
    "    attribute2score,\n",
    "    k\n",
    ")\n",
    "stereotype_results[\"attribute_class\"] = stereotype_results.attribute.apply(\n",
    "    lambda x: helpers.attribute2class(x, stereo_attributes)\n",
    ")\n",
    "\n",
    "strength_list = []\n",
    "for model in helpers.PRETTY_MODELS:\n",
    "    if model == \"GPT3.5\" or model == \"GPT4\":\n",
    "        continue\n",
    "    results_model = stereotype_results[\n",
    "        stereotype_results.model==model\n",
    "    ]\n",
    "    prompts = set(results_model.prompt)\n",
    "    for prompt in prompts:\n",
    "        for variable in variables:\n",
    "            dif = helpers.get_dif(\n",
    "                results_model[\n",
    "                    (results_model.prompt==prompt) & \n",
    "                    (results_model.variable==variable) & \n",
    "                    (results_model.attribute_class==\"general\")\n",
    "                ], \n",
    "                results_model[\n",
    "                    (results_model.prompt==prompt) & \n",
    "                    (results_model.variable==variable) &\n",
    "                    (results_model.attribute_class==\"stereo\")\n",
    "                ] \n",
    "            )\n",
    "            strength_list.append((\n",
    "                dif,\n",
    "                model,\n",
    "                variable,\n",
    "                prompt\n",
    "            ))\n",
    "\n",
    "strength_results = pd.DataFrame(\n",
    "    strength_list,\n",
    "    columns=[\"strength\", \"model\", \"variable\", \"prompt\"]\n",
    ")\n",
    "strength_results[\"family\"] = strength_results.model.apply(lambda x: helpers.pretty_model2family(x))"
   ]
  },
  {
   "cell_type": "code",
   "execution_count": 5,
   "id": "9493c9c3",
   "metadata": {},
   "outputs": [
    {
     "name": "stdout",
     "output_type": "stream",
     "text": [
      "g_dropping, 0.049, 0.049, 9.4, 89, 0.00000\n",
      "aint, 0.054, 0.055, 9.3, 89, 0.00000\n",
      "habitual, 0.111, 0.104, 10.0, 89, 0.00000\n",
      "been, 0.062, 0.054, 10.9, 89, 0.00000\n",
      "stay, 0.044, 0.110, 3.7, 89, 0.00016\n",
      "copula, 0.058, 0.063, 8.6, 89, 0.00000\n",
      "inflection, 0.013, 0.030, 4.0, 89, 0.00012\n",
      "finna, 0.070, 0.125, 5.3, 89, 0.00000\n"
     ]
    }
   ],
   "source": [
    "stats_results, p_values = [], []\n",
    "for variable in variables:\n",
    "    strengths = np.array(strength_results[strength_results.variable==variable].strength)\n",
    "    t_stat, p_value = stats.ttest_1samp(strengths, popmean=0, alternative=\"greater\")\n",
    "    stats_results.append((\n",
    "        variable,\n",
    "        strengths.mean(),\n",
    "        strengths.std(),\n",
    "        t_stat,\n",
    "        strengths.shape[0] - 1\n",
    "    ))\n",
    "    p_values.append(p_value)\n",
    "\n",
    "# Coorrect p-values\n",
    "p_values_corrected = multipletests(p_values, method=\"holm\")[1]\n",
    "\n",
    "for (variable, mean, std, t_stat, df), p_value in zip(stats_results, p_values_corrected):\n",
    "    print(f\"{variable}, {mean:.3f}, {std:.3f}, {t_stat:.1f}, {df}, {p_value:.5f}\")"
   ]
  },
  {
   "cell_type": "code",
   "execution_count": 6,
   "id": "3bfc42d3",
   "metadata": {},
   "outputs": [
    {
     "data": {
      "image/png": "[encoded data removed]",
      "text/plain": [
       "<Figure size 400x300 with 1 Axes>"
      ]
     },
     "metadata": {},
     "output_type": "display_data"
    }
   ],
   "source": [
    "order = strength_results.groupby(\"variable\")[\"strength\"].mean().sort_values(ascending=False).index\n",
    "\n",
    "fig, ax = plt.subplots(figsize=(4, 3))\n",
    "g = sns.barplot(\n",
    "    data=strength_results, \n",
    "    x=\"strength\", \n",
    "    y=\"variable\", \n",
    "    ax=ax, \n",
    "    color=sns.color_palette(\"muted\")[8],\n",
    "    order=order,\n",
    "    errorbar=\"se\", \n",
    "    capsize=0.4,\n",
    "    errwidth=2\n",
    ")\n",
    "ax.set_xlabel(\"Stereotype strength\")\n",
    "ax.set_ylabel(\"\")\n",
    "ax.set_yticklabels([\"be\", \"finna\", \"been\", \"copula\", \"ain't\", \"-in\", \"stay\", \"inflection\"])\n",
    "ax.spines[[\"right\", \"top\"]].set_visible(False)\n",
    "\n",
    "plt.tight_layout()\n",
    "plt.show()"
   ]
  }
 ],
 "metadata": {
  "kernelspec": {
   "display_name": "Python 3 (ipykernel)",
   "language": "python",
   "name": "python3"
  },
  "language_info": {
   "codemirror_mode": {
    "name": "ipython",
    "version": 3
   },
   "file_extension": ".py",
   "mimetype": "text/x-python",
   "name": "python",
   "nbconvert_exporter": "python",
   "pygments_lexer": "ipython3",
   "version": "3.10.8"
  }
 },
 "nbformat": 4,
 "nbformat_minor": 5
}
