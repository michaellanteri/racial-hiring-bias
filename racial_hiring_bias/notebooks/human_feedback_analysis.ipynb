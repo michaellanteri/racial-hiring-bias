{
 "cells": [
  {
   "cell_type": "code",
   "execution_count": 1,
   "id": "1e0045c8-4c17-420a-bc47-49b36ab78045",
   "metadata": {},
   "outputs": [],
   "source": [
    "from matplotlib import pyplot as plt\n",
    "\n",
    "import numpy as np\n",
    "import pandas as pd\n",
    "import seaborn as sns\n",
    "from statsmodels.stats.weightstats import ttest_ind\n",
    "\n",
    "import helpers"
   ]
  },
  {
   "cell_type": "markdown",
   "id": "a45c0784",
   "metadata": {},
   "source": [
    "### Data loading"
   ]
  },
  {
   "cell_type": "code",
   "execution_count": 2,
   "id": "2172e601",
   "metadata": {},
   "outputs": [],
   "source": [
    "attribute_name = \"katz\"\n",
    "attributes = helpers.load_attributes(attribute_name)\n",
    "attribute2favorability = helpers.load_favorability_ratings()\n",
    "\n",
    "variables = [\"blodgett\", \"groenwold\", \"race\"]\n",
    "variable2type = {\n",
    "    \"blodgett\": \"covert\",\n",
    "    \"groenwold\": \"covert\",\n",
    "    \"race\": \"overt\"\n",
    "}\n",
    "\n",
    "stereotype_types = [\"overt\", \"covert\"]\n",
    "\n",
    "model = \"gpt3\"\n",
    "model_variants = [\"gpt3-davinci\", \"gpt3\"]"
   ]
  },
  {
   "cell_type": "code",
   "execution_count": 3,
   "id": "f88f68a7",
   "metadata": {},
   "outputs": [],
   "source": [
    "stereotype_results = pd.DataFrame()\n",
    "for variable in variables:\n",
    "    for model_variant in model_variants:\n",
    "        results = helpers.load_results(\n",
    "            model_variant, \n",
    "            variable, \n",
    "            attribute_name\n",
    "        )\n",
    "        results_df = helpers.results2df(\n",
    "            results, \n",
    "            attributes, \n",
    "            model,\n",
    "            variable\n",
    "        )\n",
    "        results_df[\"type\"] = variable2type[variable]\n",
    "        results_df[\"model\"] = model_variant\n",
    "        stereotype_results = pd.concat([\n",
    "            stereotype_results, \n",
    "            results_df, \n",
    "        ])"
   ]
  },
  {
   "cell_type": "markdown",
   "id": "7b1dcdae",
   "metadata": {},
   "source": [
    "### Analysis"
   ]
  },
  {
   "cell_type": "code",
   "execution_count": 4,
   "id": "a283fe14",
   "metadata": {},
   "outputs": [
    {
     "name": "stdout",
     "output_type": "stream",
     "text": [
      "overt gpt3-davinci ['aggressive', 'loud', 'radical', 'musical', 'lazy'] [-0.58, -0.65, -0.41, 1.08, -1.32]\n",
      "overt gpt3 ['brilliant', 'passionate', 'musical', 'imaginative', 'artistic'] [1.86, 1.02, 1.08, 1.33, 1.12]\n",
      "covert gpt3-davinci ['dirty', 'ignorant', 'stupid', 'loud', 'lazy'] [-1.49, -1.75, -1.63, -0.65, -1.32]\n",
      "covert gpt3 ['lazy', 'aggressive', 'dirty', 'rude', 'suspicious'] [-1.32, -0.58, -1.49, -1.46, -1.05]\n"
     ]
    }
   ],
   "source": [
    "k = 5\n",
    "for stereotype_type in stereotype_types:\n",
    "    for model_variant in model_variants:\n",
    "        attributes_model = stereotype_results[\n",
    "            (stereotype_results.type==stereotype_type) &\n",
    "            (stereotype_results.model==model_variant)\n",
    "        ].groupby(\"attribute\", as_index=False)[\"ratio\"].mean()\n",
    "        attributes_model_ranked = attributes_model.sort_values( \n",
    "            by=\"ratio\",\n",
    "            ascending=False\n",
    "        )[\"attribute\"].tolist()\n",
    "        print(stereotype_type, model_variant, attributes_model_ranked[:k], [attribute2favorability[a] for a in attributes_model_ranked[:k]])"
   ]
  },
  {
   "cell_type": "code",
   "execution_count": 5,
   "id": "e77cc1fb",
   "metadata": {},
   "outputs": [],
   "source": [
    "# Favorability\n",
    "k = 5\n",
    "favorability_list = []\n",
    "for stereotype_type in stereotype_types:\n",
    "    for model_variant in model_variants:\n",
    "        results_model = stereotype_results[\n",
    "            (stereotype_results.type==stereotype_type) &\n",
    "            (stereotype_results.model==model_variant)\n",
    "        ]\n",
    "        for prompt in set(results_model.prompt):\n",
    "            attributes_model = results_model[\n",
    "                results_model.prompt==prompt\n",
    "            ].groupby(\"attribute\", as_index=False)[\"ratio\"].mean()\n",
    "            attributes_model_ranked = attributes_model.sort_values( \n",
    "                by=\"ratio\",\n",
    "                ascending=False\n",
    "            )[\"attribute\"].tolist()\n",
    "            weights_model_ranked = attributes_model.sort_values( \n",
    "                by=\"ratio\",\n",
    "                ascending=False\n",
    "            )[\"ratio\"].tolist()\n",
    "            mean_sentiment = helpers.mean_favorability(\n",
    "                attributes_model_ranked[:k], \n",
    "                attribute2favorability,\n",
    "                weights_model_ranked[:k]\n",
    "            )\n",
    "            favorability_list.append((\n",
    "                mean_sentiment,\n",
    "                model_variant,\n",
    "                stereotype_type,\n",
    "                prompt\n",
    "            ))\n",
    "\n",
    "favorability_results = pd.DataFrame(\n",
    "    favorability_list,\n",
    "    columns=[\"favorability\", \"model\", \"type\", \"prompt\"]\n",
    ")"
   ]
  },
  {
   "cell_type": "code",
   "execution_count": 6,
   "id": "59c3f352",
   "metadata": {},
   "outputs": [],
   "source": [
    "# Strength\n",
    "k = 5\n",
    "attribute2score = helpers.load_ratings(\"katz\")\n",
    "stereo_attributes = helpers.get_top_attributes(\n",
    "    attributes,\n",
    "    attribute2score,\n",
    "    k\n",
    ")\n",
    "stereotype_results[\"attribute_class\"] = stereotype_results.attribute.apply(\n",
    "    lambda x: helpers.attribute2class(x, stereo_attributes)\n",
    ")\n",
    "\n",
    "strength_list = []\n",
    "for stereotype_type in stereotype_types:\n",
    "    for model_variant in model_variants:\n",
    "        results_model = stereotype_results[\n",
    "            (stereotype_results.type==stereotype_type) &\n",
    "            (stereotype_results.model==model_variant)\n",
    "        ]\n",
    "        prompts = set(results_model.prompt)\n",
    "        for prompt in prompts:\n",
    "            dif = helpers.get_dif(\n",
    "                results_model[\n",
    "                    (results_model.prompt==prompt) & \n",
    "                    (results_model.attribute_class==\"general\")\n",
    "                ], \n",
    "                results_model[\n",
    "                    (results_model.prompt==prompt) & \n",
    "                    (results_model.attribute_class==\"stereo\")\n",
    "                ] \n",
    "            )\n",
    "            strength_list.append((\n",
    "                dif,\n",
    "                model_variant,\n",
    "                stereotype_type,\n",
    "                prompt\n",
    "            ))\n",
    "\n",
    "strength_results = pd.DataFrame(\n",
    "    strength_list,\n",
    "    columns=[\"strength\", \"model\", \"type\", \"prompt\"]\n",
    ")"
   ]
  },
  {
   "cell_type": "code",
   "execution_count": 7,
   "id": "a840ff74",
   "metadata": {},
   "outputs": [
    {
     "name": "stdout",
     "output_type": "stream",
     "text": [
      "gpt3-davinci 0.13465299815763376 0.14164122432865942\n",
      "gpt3 -0.11903371354611172 0.2337200997081046\n",
      "(2.6255438169042282, 0.018361862909596946, 16.0)\n"
     ]
    }
   ],
   "source": [
    "# Strength (overt)\n",
    "for model_variant in model_variants:\n",
    "    print(\n",
    "        model_variant,\n",
    "        np.mean(strength_results[\n",
    "            (strength_results.model==model_variant) & \n",
    "            (strength_results.type==\"overt\")\n",
    "        ].strength),\n",
    "        np.std(strength_results[\n",
    "            (strength_results.model==model_variant) & \n",
    "            (strength_results.type==\"overt\")\n",
    "        ].strength)\n",
    "    )\n",
    "print(ttest_ind(\n",
    "    strength_results[\n",
    "        (strength_results.model==\"gpt3-davinci\") & \n",
    "        (strength_results.type==\"overt\")\n",
    "    ].strength,\n",
    "    strength_results[\n",
    "        (strength_results.model==\"gpt3\") & \n",
    "        (strength_results.type==\"overt\")\n",
    "    ].strength\n",
    "))"
   ]
  },
  {
   "cell_type": "code",
   "execution_count": 8,
   "id": "71343f4c",
   "metadata": {},
   "outputs": [
    {
     "name": "stdout",
     "output_type": "stream",
     "text": [
      "gpt3-davinci -0.22070679467724885 0.3994742595913125\n",
      "gpt3 1.047230234738387 0.3874215659811238\n",
      "(-6.444504003704237, 8.103602033863481e-06, 16.0)\n"
     ]
    }
   ],
   "source": [
    "# Favorability (overt)\n",
    "for model_variant in model_variants:\n",
    "    print(\n",
    "        model_variant,\n",
    "        np.mean(favorability_results[\n",
    "            (favorability_results.model==model_variant) & \n",
    "            (favorability_results.type==\"overt\")\n",
    "        ].favorability),\n",
    "        np.std(favorability_results[\n",
    "            (favorability_results.model==model_variant) & \n",
    "            (favorability_results.type==\"overt\")\n",
    "        ].favorability)\n",
    "    )\n",
    "print(ttest_ind(\n",
    "    favorability_results[\n",
    "        (favorability_results.model==\"gpt3-davinci\") & \n",
    "        (favorability_results.type==\"overt\")\n",
    "    ].favorability,\n",
    "    favorability_results[\n",
    "        (favorability_results.model==\"gpt3\") & \n",
    "        (favorability_results.type==\"overt\")\n",
    "    ].favorability\n",
    "))"
   ]
  },
  {
   "cell_type": "code",
   "execution_count": 9,
   "id": "fd5af589",
   "metadata": {},
   "outputs": [
    {
     "name": "stdout",
     "output_type": "stream",
     "text": [
      "gpt3-davinci 0.15276115544587388 0.049345616123094904\n",
      "gpt3 0.18723683809110514 0.0662463484199042\n",
      "(-1.180462212818341, 0.25506884059404494, 16.0)\n"
     ]
    }
   ],
   "source": [
    "# Strength (covert)\n",
    "for model_variant in model_variants:\n",
    "    print(\n",
    "        model_variant,\n",
    "        np.mean(strength_results[\n",
    "            (strength_results.model==model_variant) & \n",
    "            (strength_results.type==\"covert\")\n",
    "        ].strength),\n",
    "        np.std(strength_results[\n",
    "            (strength_results.model==model_variant) & \n",
    "            (strength_results.type==\"covert\")\n",
    "        ].strength)\n",
    "    )\n",
    "print(ttest_ind(\n",
    "    strength_results[\n",
    "        (strength_results.model==\"gpt3-davinci\") & \n",
    "        (strength_results.type==\"covert\")\n",
    "    ].strength,\n",
    "    strength_results[\n",
    "        (strength_results.model==\"gpt3\") & \n",
    "        (strength_results.type==\"covert\")\n",
    "    ].strength\n",
    "))"
   ]
  },
  {
   "cell_type": "code",
   "execution_count": 10,
   "id": "2bf352c6",
   "metadata": {},
   "outputs": [
    {
     "name": "stdout",
     "output_type": "stream",
     "text": [
      "gpt3-davinci -1.1456482523532034 0.5804996338580162\n",
      "gpt3 -1.0288812314821092 0.19634348719127814\n",
      "(-0.5389426255667825, 0.5973462686073105, 16.0)\n"
     ]
    }
   ],
   "source": [
    "# Favorability (covert)\n",
    "for model_variant in model_variants:\n",
    "    print(\n",
    "        model_variant,\n",
    "        np.mean(favorability_results[\n",
    "            (favorability_results.model==model_variant) & \n",
    "            (favorability_results.type==\"covert\")\n",
    "        ].favorability),\n",
    "        np.std(favorability_results[\n",
    "            (favorability_results.model==model_variant) & \n",
    "            (favorability_results.type==\"covert\")\n",
    "        ].favorability)\n",
    "    )\n",
    "print(ttest_ind(\n",
    "    favorability_results[\n",
    "        (favorability_results.model==\"gpt3-davinci\") & \n",
    "        (favorability_results.type==\"covert\")\n",
    "    ].favorability,\n",
    "    favorability_results[\n",
    "        (favorability_results.model==\"gpt3\") & \n",
    "        (favorability_results.type==\"covert\")\n",
    "    ].favorability\n",
    "))"
   ]
  },
  {
   "cell_type": "code",
   "execution_count": 11,
   "id": "03677776",
   "metadata": {},
   "outputs": [
    {
     "data": {
      "image/png": "[encoded data removed]",
      "text/plain": [
       "<Figure size 800x300 with 2 Axes>"
      ]
     },
     "metadata": {},
     "output_type": "display_data"
    }
   ],
   "source": [
    "fig, axes = plt.subplots(1, 2, figsize=(8, 3))\n",
    "\n",
    "sns.pointplot(\n",
    "    data=strength_results, \n",
    "    x=\"model\", \n",
    "    y=\"strength\", \n",
    "    hue=\"type\", \n",
    "    errorbar=\"se\", \n",
    "    capsize=0.2,\n",
    "    palette=\"Blues\",\n",
    "    hue_order=[\"covert\", \"overt\"],\n",
    "    ax=axes[0]\n",
    ")\n",
    "\n",
    "axes[0].get_legend().remove()\n",
    "axes[0].set_xlabel(\"\")\n",
    "axes[0].set_xticklabels([\"Without HF\", \"With HF\"])\n",
    "axes[0].set_ylabel(\"Stereotype strength\")\n",
    "axes[0].spines[[\"right\", \"top\"]].set_visible(False)\n",
    "\n",
    "sns.pointplot(\n",
    "    data=favorability_results, \n",
    "    x=\"model\", \n",
    "    y=\"favorability\", \n",
    "    hue=\"type\", \n",
    "    errorbar=\"se\", \n",
    "    capsize=0.2,\n",
    "    palette=\"Blues\",\n",
    "    hue_order=[\"covert\", \"overt\"],\n",
    "    ax=axes[1]\n",
    ")\n",
    "\n",
    "axes[1].get_legend().remove()\n",
    "axes[1].set_xlabel(\"\")\n",
    "axes[1].set_xticklabels([\"Without HF\", \"With HF\"])\n",
    "axes[1].set_ylabel(\"Favorability\")\n",
    "axes[1].spines[[\"right\", \"top\"]].set_visible(False)\n",
    "\n",
    "handles, _ = axes[0].get_legend_handles_labels()\n",
    "fig.legend(handles, [\"Covert stereotypes\", \"Overt stereotypes\"], loc=\"lower center\", ncols=2, bbox_to_anchor=(0.5, 1))\n",
    "\n",
    "plt.tight_layout()\n",
    "plt.show()"
   ]
  }
 ],
 "metadata": {
  "kernelspec": {
   "display_name": "Python 3 (ipykernel)",
   "language": "python",
   "name": "python3"
  },
  "language_info": {
   "codemirror_mode": {
    "name": "ipython",
    "version": 3
   },
   "file_extension": ".py",
   "mimetype": "text/x-python",
   "name": "python",
   "nbconvert_exporter": "python",
   "pygments_lexer": "ipython3",
   "version": "3.10.8"
  }
 },
 "nbformat": 4,
 "nbformat_minor": 5
}
